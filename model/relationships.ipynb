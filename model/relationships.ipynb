{
 "metadata": {
  "language_info": {
   "codemirror_mode": {
    "name": "ipython",
    "version": 3
   },
   "file_extension": ".py",
   "mimetype": "text/x-python",
   "name": "python",
   "nbconvert_exporter": "python",
   "pygments_lexer": "ipython3",
   "version": "3.7.9"
  },
  "orig_nbformat": 4,
  "kernelspec": {
   "name": "python3",
   "display_name": "Python 3.7.9 64-bit ('.venv': venv)"
  },
  "interpreter": {
   "hash": "931f886183ad33224f0e69fd21c314ab1db729d8346ae5d414972d03c62b2d22"
  }
 },
 "nbformat": 4,
 "nbformat_minor": 2,
 "cells": [
  {
   "cell_type": "code",
   "execution_count": 2,
   "metadata": {},
   "outputs": [],
   "source": [
    "import pandas as pd\n",
    "import seaborn as sns"
   ]
  },
  {
   "cell_type": "code",
   "execution_count": 8,
   "metadata": {},
   "outputs": [],
   "source": [
    "df = pd.read_csv(\"..\\data\\data.csv\")"
   ]
  },
  {
   "cell_type": "code",
   "execution_count": 11,
   "metadata": {},
   "outputs": [],
   "source": [
    "x = ['AGE','GP','W','MIN','PTS','FGM','FGA','FG%','3PM','3PA','3P%','FTM','FTA','FT%','OREB','DREB','REB','AST','TOV','STL','BLK','PF','FP','DD2','TD3']\n",
    "y = 'rankings'"
   ]
  },
  {
   "cell_type": "code",
   "execution_count": 61,
   "metadata": {},
   "outputs": [
    {
     "output_type": "display_data",
     "data": {
      "text/plain": "<Figure size 432x288 with 0 Axes>"
     },
     "metadata": {}
    }
   ],
   "source": [
    "for stat in x:\n",
    "    path = f\"../data/relationships/{stat}.png\"\n",
    "    plot = sns.scatterplot(data=df,x=stat,y=y)\n",
    "    plot.figure.savefig(path)\n",
    "    plot.figure.clf()"
   ]
  },
  {
   "cell_type": "code",
   "execution_count": 12,
   "metadata": {},
   "outputs": [
    {
     "output_type": "display_data",
     "data": {
      "text/plain": "<Figure size 432x288 with 0 Axes>"
     },
     "metadata": {}
    }
   ],
   "source": [
    "path = \"../data/relationships/plus_minus.png\"\n",
    "plot = sns.scatterplot(data=df,x='+/-',y=y)\n",
    "plot.figure.savefig(path)\n",
    "plot.figure.clf()"
   ]
  },
  {
   "cell_type": "code",
   "execution_count": 63,
   "metadata": {},
   "outputs": [
    {
     "output_type": "stream",
     "name": "stdout",
     "text": [
      "[('FP', 0.9172768538758835), ('PTS', 0.8950123620446424), ('FGM', 0.8936102689569912), ('FGA', 0.8501685734630815), ('FTA', 0.8262920338549684), ('FTM', 0.8230488796476693), ('MIN', 0.7791562896034588), ('TOV', 0.7709191711820063), ('DREB', 0.7117966007216237), ('REB', 0.6589422844239922), ('AST', 0.6448881557525298), ('DD2', 0.6336356627166908), ('STL', 0.6219197851952071), ('PF', 0.5426471812795272), ('W', 0.4844307508130095), ('3PM', 0.4721704420976845), ('3PA', 0.468650860442648), ('GP', 0.46246706743107924), ('BLK', 0.44576639953165204), ('OREB', 0.4153684488776897), ('TD3', 0.31633681526213414), ('FT%', 0.28530879249539226), ('FG%', 0.27512741098056687), ('3P%', 0.16201963740735098), ('AGE', 0.14894070726509837)]\n"
     ]
    }
   ],
   "source": [
    "correlations = []\n",
    "for stat in x:\n",
    "    p_corr = df['rankings'].corr(df[stat])\n",
    "    correlations.append((stat, p_corr))\n",
    "correlations.sort(key = lambda x: x[1], reverse=True)\n",
    "print(correlations)\n"
   ]
  }
 ]
}