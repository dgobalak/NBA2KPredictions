{
 "metadata": {
  "language_info": {
   "codemirror_mode": {
    "name": "ipython",
    "version": 3
   },
   "file_extension": ".py",
   "mimetype": "text/x-python",
   "name": "python",
   "nbconvert_exporter": "python",
   "pygments_lexer": "ipython3",
   "version": "3.7.9"
  },
  "orig_nbformat": 4,
  "kernelspec": {
   "name": "python3",
   "display_name": "Python 3.7.9 64-bit ('.venv': venv)"
  },
  "interpreter": {
   "hash": "5fe37cc7a11e74cc6167bc736e400e01e3f45c3719160e51bdf986581e4070c9"
  }
 },
 "nbformat": 4,
 "nbformat_minor": 2,
 "cells": [
  {
   "cell_type": "code",
   "execution_count": 777,
   "metadata": {},
   "outputs": [],
   "source": [
    "import pandas as pd\n",
    "from sklearn.linear_model import LinearRegression\n",
    "from sklearn.model_selection import train_test_split\n",
    "from sklearn import preprocessing\n",
    "from sklearn.metrics import r2_score\n",
    "from sklearn.metrics import mean_squared_error\n",
    "import numpy as np\n",
    "import seaborn as sns\n",
    "import math\n",
    "import pickle"
   ]
  },
  {
   "cell_type": "code",
   "execution_count": 778,
   "metadata": {},
   "outputs": [
    {
     "output_type": "execute_result",
     "data": {
      "text/plain": [
       "       PTS    FP   FGA  FTM   MIN  rankings\n",
       "0     14.4  31.9  12.4  2.4  32.5      80.0\n",
       "1      9.5  19.3   8.5  1.1  24.5      76.0\n",
       "2      6.3  11.1   4.8  0.9  15.8      71.0\n",
       "3      2.9   5.5   2.5  0.2  10.2      68.0\n",
       "4      3.0   6.3   2.8  0.3  11.2      71.0\n",
       "...    ...   ...   ...  ...   ...       ...\n",
       "2407   6.8  14.7   6.1  1.3  17.0      73.0\n",
       "2408  13.9  25.7  12.5  1.4  31.7      77.0\n",
       "2409  10.1  18.8   8.8  1.9  24.7      73.0\n",
       "2410  16.1  33.3  13.1  3.2  32.4      84.0\n",
       "2411   8.3  22.5   7.2  1.7  23.7      73.0\n",
       "\n",
       "[2412 rows x 6 columns]"
      ],
      "text/html": "<div>\n<style scoped>\n    .dataframe tbody tr th:only-of-type {\n        vertical-align: middle;\n    }\n\n    .dataframe tbody tr th {\n        vertical-align: top;\n    }\n\n    .dataframe thead th {\n        text-align: right;\n    }\n</style>\n<table border=\"1\" class=\"dataframe\">\n  <thead>\n    <tr style=\"text-align: right;\">\n      <th></th>\n      <th>PTS</th>\n      <th>FP</th>\n      <th>FGA</th>\n      <th>FTM</th>\n      <th>MIN</th>\n      <th>rankings</th>\n    </tr>\n  </thead>\n  <tbody>\n    <tr>\n      <th>0</th>\n      <td>14.4</td>\n      <td>31.9</td>\n      <td>12.4</td>\n      <td>2.4</td>\n      <td>32.5</td>\n      <td>80.0</td>\n    </tr>\n    <tr>\n      <th>1</th>\n      <td>9.5</td>\n      <td>19.3</td>\n      <td>8.5</td>\n      <td>1.1</td>\n      <td>24.5</td>\n      <td>76.0</td>\n    </tr>\n    <tr>\n      <th>2</th>\n      <td>6.3</td>\n      <td>11.1</td>\n      <td>4.8</td>\n      <td>0.9</td>\n      <td>15.8</td>\n      <td>71.0</td>\n    </tr>\n    <tr>\n      <th>3</th>\n      <td>2.9</td>\n      <td>5.5</td>\n      <td>2.5</td>\n      <td>0.2</td>\n      <td>10.2</td>\n      <td>68.0</td>\n    </tr>\n    <tr>\n      <th>4</th>\n      <td>3.0</td>\n      <td>6.3</td>\n      <td>2.8</td>\n      <td>0.3</td>\n      <td>11.2</td>\n      <td>71.0</td>\n    </tr>\n    <tr>\n      <th>...</th>\n      <td>...</td>\n      <td>...</td>\n      <td>...</td>\n      <td>...</td>\n      <td>...</td>\n      <td>...</td>\n    </tr>\n    <tr>\n      <th>2407</th>\n      <td>6.8</td>\n      <td>14.7</td>\n      <td>6.1</td>\n      <td>1.3</td>\n      <td>17.0</td>\n      <td>73.0</td>\n    </tr>\n    <tr>\n      <th>2408</th>\n      <td>13.9</td>\n      <td>25.7</td>\n      <td>12.5</td>\n      <td>1.4</td>\n      <td>31.7</td>\n      <td>77.0</td>\n    </tr>\n    <tr>\n      <th>2409</th>\n      <td>10.1</td>\n      <td>18.8</td>\n      <td>8.8</td>\n      <td>1.9</td>\n      <td>24.7</td>\n      <td>73.0</td>\n    </tr>\n    <tr>\n      <th>2410</th>\n      <td>16.1</td>\n      <td>33.3</td>\n      <td>13.1</td>\n      <td>3.2</td>\n      <td>32.4</td>\n      <td>84.0</td>\n    </tr>\n    <tr>\n      <th>2411</th>\n      <td>8.3</td>\n      <td>22.5</td>\n      <td>7.2</td>\n      <td>1.7</td>\n      <td>23.7</td>\n      <td>73.0</td>\n    </tr>\n  </tbody>\n</table>\n<p>2412 rows × 6 columns</p>\n</div>"
     },
     "metadata": {},
     "execution_count": 778
    }
   ],
   "source": [
    "'''\n",
    "PTS: Points per game\n",
    "FP: Fantasy points per game\n",
    "FGA: Field goals attempted per game\n",
    "FTM: Free throw makes per game\n",
    "MIN: Minutes per game\n",
    "rankings: NBA 2K rating\n",
    "'''\n",
    "# Importing CSV data into pandas dataframe\n",
    "df = pd.read_csv(\"..\\data\\data.csv\")\n",
    "# Chose features that show linear behaviour when graphed against rankings\n",
    "df = df[['PTS', 'FP', 'FGA', 'FTM', 'MIN', 'rankings']]\n",
    "df.dropna()"
   ]
  },
  {
   "cell_type": "code",
   "execution_count": 779,
   "metadata": {},
   "outputs": [],
   "source": [
    "X = np.array(df.drop(['rankings'], axis=1))\n",
    "y = np.array(df['rankings'])"
   ]
  },
  {
   "cell_type": "code",
   "execution_count": 780,
   "metadata": {},
   "outputs": [],
   "source": [
    "# Scaled features down to [-1,1]\n",
    "scaler = preprocessing.StandardScaler()\n",
    "scaled_X = scaler.fit_transform(X)"
   ]
  },
  {
   "cell_type": "code",
   "execution_count": 781,
   "metadata": {},
   "outputs": [],
   "source": [
    "X_train, X_test, y_train, y_test = train_test_split(scaled_X, y, test_size=0.5)"
   ]
  },
  {
   "cell_type": "code",
   "execution_count": 782,
   "metadata": {},
   "outputs": [
    {
     "output_type": "execute_result",
     "data": {
      "text/plain": [
       "LinearRegression()"
      ]
     },
     "metadata": {},
     "execution_count": 782
    }
   ],
   "source": [
    "clf = LinearRegression()\n",
    "clf.fit(X_train, y_train)"
   ]
  },
  {
   "cell_type": "code",
   "execution_count": 783,
   "metadata": {},
   "outputs": [
    {
     "output_type": "stream",
     "name": "stdout",
     "text": [
      "R2: 0.881547999455247, MSE: 3.959240909539362, RMSE: 1.9897841364176572\n"
     ]
    }
   ],
   "source": [
    "# Compute various success metrics for regression\n",
    "r2 = r2_score(y_true=y_test, y_pred=clf.predict(X_test))\n",
    "mse = mean_squared_error(y_true=y_test, y_pred=clf.predict(X_test))\n",
    "rmse = math.sqrt(mse)\n",
    "print(f\"R2: {r2}, MSE: {mse}, RMSE: {rmse}\")"
   ]
  },
  {
   "cell_type": "code",
   "execution_count": 784,
   "metadata": {},
   "outputs": [],
   "source": [
    "with open('model.pkl', 'wb') as f:\n",
    "    pickle.dump(clf, f)\n",
    "\n",
    "with open('scaler.pkl', 'wb') as f:\n",
    "    pickle.dump(scaler, f)"
   ]
  }
 ]
}